{
  "nbformat": 4,
  "nbformat_minor": 0,
  "metadata": {
    "colab": {
      "provenance": []
    },
    "kernelspec": {
      "name": "python3",
      "display_name": "Python 3"
    },
    "language_info": {
      "name": "python"
    }
  },
  "cells": [
    {
      "cell_type": "markdown",
      "source": [
        "# Entrega 1 - Projeto PCD\n",
        "\n",
        "## Camila Barretto Lins Paes - 147.949\n",
        "## Harrison Caetano Candido - 156.264\n",
        "## Laura Maria Cunha Lisbôa - 163.882"
      ],
      "metadata": {
        "id": "ry4J2Eg8eQED"
      }
    },
    {
      "cell_type": "markdown",
      "source": [
        "## Instalações"
      ],
      "metadata": {
        "id": "flNAdpIBjISQ"
      }
    },
    {
      "cell_type": "code",
      "source": [
        "ls"
      ],
      "metadata": {
        "colab": {
          "base_uri": "https://localhost:8080/"
        },
        "id": "Fi0clHVeawzk",
        "outputId": "09ff8077-6881-4c34-adeb-ae074d042ecf"
      },
      "execution_count": null,
      "outputs": [
        {
          "output_type": "stream",
          "name": "stdout",
          "text": [
            "diffusion.c             main.c               output_step_500.txt  sequencial_output_final.txt\n",
            "\u001b[0m\u001b[01;32mdiffusion_parallel\u001b[0m*     output_final.txt     output_step_600.txt  sequencial_output_step_0.txt\n",
            "diffusion_parallel.c    output_step_0.txt    output_step_700.txt  sequencial_output_step_100.txt\n",
            "diffusion_sequential.c  output_step_100.txt  output_step_800.txt  sequencial_output_step_200.txt\n",
            "difusao.c               output_step_200.txt  output_step_900.txt  sequencial_output_step_300.txt\n",
            "\u001b[01;32mdifusao.x\u001b[0m*              output_step_300.txt  processador.txt      sequencial_output_step_400.txt\n",
            "\u001b[01;32mmain\u001b[0m*                   output_step_400.txt  \u001b[01;34msample_data\u001b[0m/\n"
          ]
        }
      ]
    },
    {
      "cell_type": "code",
      "source": [
        "!apt-get update\n",
        "!apt-get install -y gcc"
      ],
      "metadata": {
        "colab": {
          "base_uri": "https://localhost:8080/"
        },
        "id": "LmdsTgl0a4o5",
        "outputId": "4cbcbccb-2039-4aa9-e0ca-dbca920f35ad"
      },
      "execution_count": null,
      "outputs": [
        {
          "output_type": "stream",
          "name": "stdout",
          "text": [
            "\r0% [Working]\r            \rHit:1 http://security.ubuntu.com/ubuntu jammy-security InRelease\n",
            "\r0% [Connecting to archive.ubuntu.com (185.125.190.81)] [Connected to cloud.r-project.org (108.139.15\r                                                                                                    \rHit:2 https://developer.download.nvidia.com/compute/cuda/repos/ubuntu2204/x86_64  InRelease\n",
            "\r0% [Waiting for headers] [Waiting for headers] [Connected to r2u.stat.illinois.edu (192.17.190.167)]\r                                                                                                    \rHit:3 https://cloud.r-project.org/bin/linux/ubuntu jammy-cran40/ InRelease\n",
            "Hit:4 http://archive.ubuntu.com/ubuntu jammy InRelease\n",
            "Hit:5 https://r2u.stat.illinois.edu/ubuntu jammy InRelease\n",
            "Hit:6 http://archive.ubuntu.com/ubuntu jammy-updates InRelease\n",
            "Hit:7 http://archive.ubuntu.com/ubuntu jammy-backports InRelease\n",
            "Hit:8 https://ppa.launchpadcontent.net/deadsnakes/ppa/ubuntu jammy InRelease\n",
            "Hit:9 https://ppa.launchpadcontent.net/graphics-drivers/ppa/ubuntu jammy InRelease\n",
            "Hit:10 https://ppa.launchpadcontent.net/ubuntugis/ppa/ubuntu jammy InRelease\n",
            "Reading package lists... Done\n",
            "W: Skipping acquire of configured file 'main/source/Sources' as repository 'https://r2u.stat.illinois.edu/ubuntu jammy InRelease' does not seem to provide it (sources.list entry misspelt?)\n",
            "Reading package lists... Done\n",
            "Building dependency tree... Done\n",
            "Reading state information... Done\n",
            "gcc is already the newest version (4:11.2.0-1ubuntu1).\n",
            "0 upgraded, 0 newly installed, 0 to remove and 57 not upgraded.\n"
          ]
        }
      ]
    },
    {
      "cell_type": "code",
      "source": [
        "!apt-get install libgomp1"
      ],
      "metadata": {
        "id": "O2VvOoFKcTWl",
        "colab": {
          "base_uri": "https://localhost:8080/"
        },
        "outputId": "74df3027-3691-46de-ac69-aa8ecc9892ed"
      },
      "execution_count": null,
      "outputs": [
        {
          "output_type": "stream",
          "name": "stdout",
          "text": [
            "Reading package lists... Done\n",
            "Building dependency tree... Done\n",
            "Reading state information... Done\n",
            "libgomp1 is already the newest version (12.3.0-1ubuntu1~22.04).\n",
            "0 upgraded, 0 newly installed, 0 to remove and 57 not upgraded.\n"
          ]
        }
      ]
    },
    {
      "cell_type": "markdown",
      "source": [
        "## Código"
      ],
      "metadata": {
        "id": "9Yfi6JCYjD_C"
      }
    },
    {
      "cell_type": "markdown",
      "source": [
        "###Sequencial"
      ],
      "metadata": {
        "id": "zFcKSurDjgDi"
      }
    },
    {
      "cell_type": "code",
      "source": [
        "%%writefile diffusion_sequential.c\n",
        "\n",
        "#include <stdio.h>\n",
        "#include <stdlib.h>\n",
        "#include <math.h>\n",
        "#define N 600 // Tamanho da grade\n",
        "#define T 1000 // Número de iterações\n",
        "#define D 0.1 // Coeficiente de difusão\n",
        "#define DELTA_T 0.01\n",
        "#define DELTA_X 1.0\n",
        "\n",
        "void diff_eq(double C[N][N], double C_new[N][N]) {\n",
        "    for (int t = 0; t < T; t++) {\n",
        "        for (int i = 1; i < N - 1; i++) {\n",
        "            for (int j = 1; j < N - 1; j++) {\n",
        "                C_new[i][j] = C[i][j] + D * DELTA_T * (\n",
        "                    (C[i+1][j] + C[i-1][j] + C[i][j+1] + C[i][j-1] - 4 * C[i][j]) /\n",
        "                    (DELTA_X * DELTA_X)\n",
        "                );\n",
        "            }\n",
        "        }\n",
        "\n",
        "        // Atualizar matriz para a próxima iteração\n",
        "        for (int i = 1; i < N - 1; i++) {\n",
        "            for (int j = 1; j < N - 1; j++) {\n",
        "                C[i][j] = C_new[i][j];\n",
        "            }\n",
        "        }\n",
        "\n",
        "        if ((t % 100) == 0)\n",
        "            printf(\"Iteração %d concluída\\n\", t);\n",
        "    }\n",
        "}\n",
        "\n",
        "void save_grid(double **grid, const char* filename) {\n",
        "    FILE* file = fopen(filename, \"w\");\n",
        "    if (file == NULL) {\n",
        "        printf(\"Erro ao salvar o arquivo %s\\n\", filename);\n",
        "        return;\n",
        "    }\n",
        "    for (int i = 0; i < N; i++) {\n",
        "        for (int j = 0; j < N; j++) {\n",
        "            fprintf(file, \"%.6f \", grid[i][j]);\n",
        "        }\n",
        "        fprintf(file, \"\\n\");\n",
        "    }\n",
        "    fclose(file);\n",
        "}\n",
        "\n",
        "int main() {\n",
        "    // Concentração inicial\n",
        "    double **C = (double **)malloc(N * sizeof(double *));\n",
        "    if (C == NULL) {\n",
        "        fprintf(stderr, \"Erro na alocação de memória\\n\");\n",
        "        return 1;\n",
        "    }\n",
        "    for (int i = 0; i < N; i++) {\n",
        "        C[i] = (double *)malloc(N * sizeof(double));\n",
        "        if (C[i] == NULL) {\n",
        "            fprintf(stderr, \"Erro na alocação de memória\\n\");\n",
        "            return 1;\n",
        "        }\n",
        "    }\n",
        "\n",
        "    // Concentração para a próxima iteração\n",
        "    double **C_new = (double **)malloc(N * sizeof(double *));\n",
        "    if (C_new == NULL) {\n",
        "        fprintf(stderr, \"Erro na alocação de memória\\n\");\n",
        "        return 1;\n",
        "    }\n",
        "    for (int i = 0; i < N; i++) {\n",
        "        C_new[i] = (double *)malloc(N * sizeof(double));\n",
        "        if (C_new[i] == NULL) {\n",
        "            fprintf(stderr, \"Erro na alocação de memória\\n\");\n",
        "            return 1;\n",
        "        }\n",
        "    }\n",
        "\n",
        "    // Inicializar matriz\n",
        "    for (int i = 0; i < N; i++) {\n",
        "        for (int j = 0; j < N; j++) {\n",
        "            C[i][j] = 0.0;\n",
        "            C_new[i][j] = 0.0;\n",
        "        }\n",
        "    }\n",
        "\n",
        "    // Inicializar uma concentração alta no centro\n",
        "    C[N/2][N/2] = 100.0;\n",
        "\n",
        "    // Executar as iterações no tempo para a equação de difusão\n",
        "    diff_eq(C, C_new);\n",
        "\n",
        "    // Salvar os dados da matriz\n",
        "    save_grid(C, \"output_final.txt\");\n",
        "\n",
        "    // Liberar memória\n",
        "    for (int i = 0; i < N; i++) {\n",
        "        free(C[i]);\n",
        "        free(C_new[i]);\n",
        "    }\n",
        "    free(C);\n",
        "    free(C_new);\n",
        "\n",
        "    printf(\"Simulação finalizada. Dados salvos em output_final.txt\\n\");\n",
        "    return 0;\n",
        "}\n"
      ],
      "metadata": {
        "colab": {
          "base_uri": "https://localhost:8080/"
        },
        "id": "8DgkW4-hjV16",
        "outputId": "996393d0-cb59-4c37-af4d-b82eaf4bb23c"
      },
      "execution_count": null,
      "outputs": [
        {
          "output_type": "stream",
          "name": "stdout",
          "text": [
            "Overwriting diffusion_sequential.c\n"
          ]
        }
      ]
    },
    {
      "cell_type": "code",
      "source": [
        "!rm difusao.x\n",
        "!gcc difusao.c -o difusao.x\n",
        "!time ./difusao.x"
      ],
      "metadata": {
        "colab": {
          "base_uri": "https://localhost:8080/"
        },
        "id": "mVfVWlbyFUjN",
        "outputId": "8f1603e2-ab2a-4972-f8e2-6cab2efadfdf"
      },
      "execution_count": null,
      "outputs": [
        {
          "output_type": "stream",
          "name": "stdout",
          "text": [
            "interacao 0 - diferenca=3.22575e-08\n",
            "interacao 100 - diferenca=1.98387e-08\n",
            "interacao 200 - diferenca=1.25842e-08\n",
            "interacao 300 - diferenca=8.23383e-09\n",
            "interacao 400 - diferenca=6.78681e-09\n",
            "interacao 500 - diferenca=5.83053e-09\n",
            "interacao 600 - diferenca=4.92515e-09\n",
            "interacao 700 - diferenca=4.13898e-09\n",
            "interacao 800 - diferenca=3.56014e-09\n",
            "interacao 900 - diferenca=3.22324e-09\n",
            "Concentração final no centro: 0.095045\n",
            "\n",
            "real\t0m4.463s\n",
            "user\t0m4.443s\n",
            "sys\t0m0.008s\n"
          ]
        }
      ]
    },
    {
      "cell_type": "code",
      "source": [
        "!more /proc/cpuinfo &> processador.txt\n",
        "!more processador.txt | grep model"
      ],
      "metadata": {
        "colab": {
          "base_uri": "https://localhost:8080/"
        },
        "id": "8Kw0c32cFXoV",
        "outputId": "b12c7794-cbcf-4b32-8a54-1355ae1053cf"
      },
      "execution_count": null,
      "outputs": [
        {
          "output_type": "stream",
          "name": "stdout",
          "text": [
            "model\t\t: 79\n",
            "model name\t: Intel(R) Xeon(R) CPU @ 2.20GHz\n",
            "model\t\t: 79\n",
            "model name\t: Intel(R) Xeon(R) CPU @ 2.20GHz\n"
          ]
        }
      ]
    },
    {
      "cell_type": "markdown",
      "source": [
        "#### Gráfico"
      ],
      "metadata": {
        "id": "Ib6VsdM0XXWJ"
      }
    },
    {
      "cell_type": "code",
      "source": [
        "import numpy as np\n",
        "import matplotlib.pyplot as plt\n",
        "\n",
        "data = np.loadtxt(\"output_final.txt\")\n",
        "\n",
        "plt.figure(figsize=(8, 6))\n",
        "plt.imshow(data, cmap='hot', interpolation='nearest')\n",
        "plt.colorbar(label='Concentração')\n",
        "plt.title(\"Distribuição de Contaminantes (Simulação Sequencial)\")\n",
        "plt.xlabel(\"X\")\n",
        "plt.ylabel(\"Y\")\n",
        "plt.show()"
      ],
      "metadata": {
        "colab": {
          "base_uri": "https://localhost:8080/",
          "height": 564
        },
        "id": "C4_RmNroOm2v",
        "outputId": "733da91c-db23-4914-afb3-0662f5a651b8"
      },
      "execution_count": null,
      "outputs": [
        {
          "output_type": "display_data",
          "data": {
            "text/plain": [
              "<Figure size 800x600 with 2 Axes>"
            ],
            "image/png": "[encoded data removed]"
          },
          "metadata": {}
        }
      ]
    },
    {
      "cell_type": "markdown",
      "source": [
        "### Paralelo"
      ],
      "metadata": {
        "id": "7BeOxK6zjqYy"
      }
    },
    {
      "cell_type": "code",
      "source": [
        "%%writefile main.c\n",
        "\n",
        "#include <stdio.h>\n",
        "#include <stdlib.h>\n",
        "#include <omp.h>\n",
        "\n",
        "#define N 600         // Dimensão da grade\n",
        "#define TIME_STEPS 1000 // Número de passos de tempo\n",
        "#define D 0.1        // Coeficiente de difusão aumentado\n",
        "#define DT 0.01        // Passo de tempo aumentado\n",
        "#define DX 1.0        // Distância entre pontos na grade\n",
        "#define NUM_THREADS 2\n",
        "\n",
        "void initialize_grid(double grid[N][N]) {\n",
        "    for (int i = 0; i < N; i++) {\n",
        "        for (int j = 0; j < N; j++) {\n",
        "            grid[i][j] = 0.0;\n",
        "        }\n",
        "    }\n",
        "    int center = N / 2;\n",
        "    grid[center][center] = 100.0; // Alta concentração no centro\n",
        "}\n",
        "\n",
        "void save_grid(double grid[N][N], const char* filename) {\n",
        "    FILE* file = fopen(filename, \"w\");\n",
        "    for (int i = 0; i < N; i++) {\n",
        "        for (int j = 0; j < N; j++) {\n",
        "            fprintf(file, \"%.2f \", grid[i][j]);\n",
        "        }\n",
        "        fprintf(file, \"\\n\");\n",
        "    }\n",
        "    fclose(file);\n",
        "}\n",
        "\n",
        "int main() {\n",
        "    double grid[N][N], new_grid[N][N];\n",
        "    omp_set_num_threads(NUM_THREADS);\n",
        "    initialize_grid(grid);\n",
        "\n",
        "    double alpha = D * DT / (DX * DX);\n",
        "    if (alpha > 0.25) {\n",
        "        printf(\"Erro: Fator alpha instável (%.2f).\\n\", alpha);\n",
        "        return -1;\n",
        "    }\n",
        "\n",
        "    double start_time = omp_get_wtime();\n",
        "\n",
        "    for (int t = 0; t < TIME_STEPS; t++) {\n",
        "        #pragma omp parallel for collapse(2)\n",
        "        for (int i = 1; i < N - 1; i++) {\n",
        "            for (int j = 1; j < N - 1; j++) {\n",
        "                new_grid[i][j] = grid[i][j] + alpha * (\n",
        "                    grid[i+1][j] + grid[i-1][j] +\n",
        "                    grid[i][j+1] + grid[i][j-1] -\n",
        "                    4 * grid[i][j]\n",
        "                );\n",
        "            }\n",
        "        }\n",
        "\n",
        "        #pragma omp parallel for collapse(2)\n",
        "        for (int i = 1; i < N - 1; i++) {\n",
        "            for (int j = 1; j < N - 1; j++) {\n",
        "                grid[i][j] = new_grid[i][j];\n",
        "            }\n",
        "        }\n",
        "\n",
        "        // Condições de contorno: bordas fixas\n",
        "        #pragma omp parallel for\n",
        "        for (int i = 0; i < N; i++) {\n",
        "            grid[i][0] = grid[i][N-1] = 0.0;\n",
        "            grid[0][i] = grid[N-1][i] = 0.0;\n",
        "        }\n",
        "\n",
        "        if (t % 100 == 0) { // Salvar a cada 100 iterações\n",
        "            char filename[50];\n",
        "            sprintf(filename, \"paralelo_output_step_%d.txt\", t);\n",
        "            save_grid(grid, filename);\n",
        "        }\n",
        "    }\n",
        "\n",
        "    double end_time = omp_get_wtime();\n",
        "    printf(\"Simulação finalizada em %.2f segundos.\\n\", end_time - start_time);\n",
        "    save_grid(grid, \"paralelo_output_final.txt\");\n",
        "    return 0;\n",
        "}\n"
      ],
      "metadata": {
        "colab": {
          "base_uri": "https://localhost:8080/"
        },
        "id": "xmhaMPyZbAt1",
        "outputId": "139bb8b4-cd07-4a0c-b791-ba8b00ee035d"
      },
      "execution_count": null,
      "outputs": [
        {
          "output_type": "stream",
          "name": "stdout",
          "text": [
            "Overwriting main.c\n"
          ]
        }
      ]
    },
    {
      "cell_type": "code",
      "source": [
        "%%shell\n",
        "gcc -fopenmp main.c -o main\n",
        "./main"
      ],
      "metadata": {
        "id": "_5IVcVcxcwQD",
        "colab": {
          "base_uri": "https://localhost:8080/"
        },
        "outputId": "88548208-347d-4c48-b183-39ab613e39de"
      },
      "execution_count": null,
      "outputs": [
        {
          "output_type": "stream",
          "name": "stdout",
          "text": [
            "Simulação finalizada em 5.10 segundos.\n"
          ]
        },
        {
          "output_type": "execute_result",
          "data": {
            "text/plain": []
          },
          "metadata": {},
          "execution_count": 130
        }
      ]
    },
    {
      "cell_type": "markdown",
      "source": [
        "#### Gráfico"
      ],
      "metadata": {
        "id": "xco37td3jNVY"
      }
    },
    {
      "cell_type": "code",
      "source": [
        "import numpy as np\n",
        "import matplotlib.pyplot as plt\n",
        "\n",
        "data = np.loadtxt('paralelo_output_final.txt')\n",
        "\n",
        "plt.figure(figsize=(8, 6))\n",
        "plt.imshow(data, cmap='hot', interpolation='nearest')\n",
        "plt.colorbar(label='Concentração')\n",
        "plt.title('Distribuição de Contaminantes (Simulação Paralela)')\n",
        "plt.xlabel('X')\n",
        "plt.ylabel('Y')\n",
        "plt.show()\n"
      ],
      "metadata": {
        "colab": {
          "base_uri": "https://localhost:8080/",
          "height": 564
        },
        "id": "rbVc2sA1RAqM",
        "outputId": "7c6e1832-6e4e-4b2e-8406-4b88a5825670"
      },
      "execution_count": null,
      "outputs": [
        {
          "output_type": "display_data",
          "data": {
            "text/plain": [
              "<Figure size 800x600 with 2 Axes>"
            ],
            "image/png": "[encoded data removed]"
          },
          "metadata": {}
        }
      ]
    }
  ]
}